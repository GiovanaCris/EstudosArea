{
 "cells": [
  {
   "cell_type": "code",
   "execution_count": 38,
   "id": "f78775d2",
   "metadata": {},
   "outputs": [],
   "source": [
    "import pandas as pd"
   ]
  },
  {
   "cell_type": "code",
   "execution_count": 39,
   "id": "225aef57",
   "metadata": {},
   "outputs": [],
   "source": [
    "pd.set_option(\"display.max_columns\", None) #Não ter limite de coluna para o display, para não cortar nenhuma coluna\n",
    "pd.set_option(\"display.expand_frame_repr\", False) #Não ter quebra de linha\n"
   ]
  },
  {
   "cell_type": "code",
   "execution_count": 40,
   "id": "565dfb5d",
   "metadata": {},
   "outputs": [],
   "source": [
    "arquivo = \"produtos_preco_formatado.csv\""
   ]
  },
  {
   "cell_type": "markdown",
   "id": "300938f7",
   "metadata": {},
   "source": [
    "1- Leitura do arquivo"
   ]
  },
  {
   "cell_type": "code",
   "execution_count": 41,
   "id": "9ae40c82",
   "metadata": {},
   "outputs": [
    {
     "data": {
      "text/html": [
       "<div>\n",
       "<style scoped>\n",
       "    .dataframe tbody tr th:only-of-type {\n",
       "        vertical-align: middle;\n",
       "    }\n",
       "\n",
       "    .dataframe tbody tr th {\n",
       "        vertical-align: top;\n",
       "    }\n",
       "\n",
       "    .dataframe thead th {\n",
       "        text-align: right;\n",
       "    }\n",
       "</style>\n",
       "<table border=\"1\" class=\"dataframe\">\n",
       "  <thead>\n",
       "    <tr style=\"text-align: right;\">\n",
       "      <th></th>\n",
       "      <th>nome</th>\n",
       "      <th>categoria</th>\n",
       "      <th>quantidade</th>\n",
       "      <th>preço</th>\n",
       "    </tr>\n",
       "  </thead>\n",
       "  <tbody>\n",
       "    <tr>\n",
       "      <th>0</th>\n",
       "      <td>Caderno</td>\n",
       "      <td>Papelaria</td>\n",
       "      <td>10</td>\n",
       "      <td>R$ 12,50</td>\n",
       "    </tr>\n",
       "    <tr>\n",
       "      <th>1</th>\n",
       "      <td>Lápis</td>\n",
       "      <td>Papelaria</td>\n",
       "      <td>100</td>\n",
       "      <td>R$ 1,20</td>\n",
       "    </tr>\n",
       "  </tbody>\n",
       "</table>\n",
       "</div>"
      ],
      "text/plain": [
       "      nome  categoria  quantidade     preço\n",
       "0  Caderno  Papelaria          10  R$ 12,50\n",
       "1    Lápis  Papelaria         100   R$ 1,20"
      ]
     },
     "execution_count": 41,
     "metadata": {},
     "output_type": "execute_result"
    }
   ],
   "source": [
    "df = pd.read_csv(arquivo, sep=\",\", index_col=None)\n",
    "df.head(2)"
   ]
  },
  {
   "cell_type": "markdown",
   "id": "630823b4",
   "metadata": {},
   "source": [
    "2- Entender e remover linhas desnecessárias com df.drop(colunas, axis)"
   ]
  },
  {
   "cell_type": "code",
   "execution_count": 42,
   "id": "abad52cb",
   "metadata": {},
   "outputs": [
    {
     "data": {
      "text/plain": [
       "Index(['nome', 'quantidade'], dtype='object')"
      ]
     },
     "execution_count": 42,
     "metadata": {},
     "output_type": "execute_result"
    }
   ],
   "source": [
    "df = df.drop([\"categoria\", \"preço\"],axis=1)#Deletar colunas desnecessárias da tabela, O axis=1 é pq é coluna se fosse linhas seria axis=0\n",
    "df.columns #Exibe as colunas da tabela"
   ]
  },
  {
   "cell_type": "markdown",
   "id": "f1c960bd",
   "metadata": {},
   "source": [
    "3- Renomear colunas com df.rename(columns={\"nome_velho\": \"nome_novo\"})"
   ]
  },
  {
   "cell_type": "code",
   "execution_count": null,
   "id": "063577a9",
   "metadata": {},
   "outputs": [
    {
     "data": {
      "text/plain": [
       "Index(['Produto', 'quantidade'], dtype='object')"
      ]
     },
     "execution_count": 45,
     "metadata": {},
     "output_type": "execute_result"
    }
   ],
   "source": [
    "df = df.rename(columns={\"nome\": \"Produto\"}) #Aqui eu coloco o nome da minha coluna atual e altero para o novo nome, SE NÃO CRIAR UMA VARIÁVEL PARA GUARDAR AS MUDANÇAS SE NÃO ELAS NÃO REFLETEM\n",
    "df.columns"
   ]
  },
  {
   "cell_type": "markdown",
   "id": "02023e7b",
   "metadata": {},
   "source": [
    "4- Verificando dados que faltam e preenchendo"
   ]
  },
  {
   "cell_type": "code",
   "execution_count": 48,
   "id": "c5cae90d",
   "metadata": {},
   "outputs": [
    {
     "data": {
      "text/plain": [
       "Produto       0\n",
       "quantidade    0\n",
       "dtype: int64"
      ]
     },
     "execution_count": 48,
     "metadata": {},
     "output_type": "execute_result"
    }
   ],
   "source": [
    "#Algumas colunas não vem com todos os dados preenchidos, aqui iremos verificar quando não possuem todos os dados preenchidos\n",
    "df.isna().sum() #isna retorna falso e verdadeiro, FALSO quando esta preenchido e VERDADEIRO quando não ta, quando ele é na(não preenchido), o SUM é pra ver por coluna a quantidade de dados faltantes que possui"
   ]
  },
  {
   "cell_type": "markdown",
   "id": "f0e61e98",
   "metadata": {},
   "source": [
    "5- Verificando dados que faltam e preenchendo"
   ]
  },
  {
   "cell_type": "code",
   "execution_count": null,
   "id": "7ff3b775",
   "metadata": {},
   "outputs": [
    {
     "ename": "KeyError",
     "evalue": "'nome'",
     "output_type": "error",
     "traceback": [
      "\u001b[1;31m---------------------------------------------------------------------------\u001b[0m",
      "\u001b[1;31mKeyError\u001b[0m                                  Traceback (most recent call last)",
      "File \u001b[1;32mc:\\Users\\ct67ca\\Documents\\estudoss\\EstudosArea\\env\\lib\\site-packages\\pandas\\core\\indexes\\base.py:3812\u001b[0m, in \u001b[0;36mIndex.get_loc\u001b[1;34m(self, key)\u001b[0m\n\u001b[0;32m   3811\u001b[0m \u001b[38;5;28;01mtry\u001b[39;00m:\n\u001b[1;32m-> 3812\u001b[0m     \u001b[38;5;28;01mreturn\u001b[39;00m \u001b[38;5;28;43mself\u001b[39;49m\u001b[38;5;241;43m.\u001b[39;49m\u001b[43m_engine\u001b[49m\u001b[38;5;241;43m.\u001b[39;49m\u001b[43mget_loc\u001b[49m\u001b[43m(\u001b[49m\u001b[43mcasted_key\u001b[49m\u001b[43m)\u001b[49m\n\u001b[0;32m   3813\u001b[0m \u001b[38;5;28;01mexcept\u001b[39;00m \u001b[38;5;167;01mKeyError\u001b[39;00m \u001b[38;5;28;01mas\u001b[39;00m err:\n",
      "File \u001b[1;32mpandas/_libs/index.pyx:167\u001b[0m, in \u001b[0;36mpandas._libs.index.IndexEngine.get_loc\u001b[1;34m()\u001b[0m\n",
      "File \u001b[1;32mpandas/_libs/index.pyx:196\u001b[0m, in \u001b[0;36mpandas._libs.index.IndexEngine.get_loc\u001b[1;34m()\u001b[0m\n",
      "File \u001b[1;32mpandas/_libs/hashtable_class_helper.pxi:7088\u001b[0m, in \u001b[0;36mpandas._libs.hashtable.PyObjectHashTable.get_item\u001b[1;34m()\u001b[0m\n",
      "File \u001b[1;32mpandas/_libs/hashtable_class_helper.pxi:7096\u001b[0m, in \u001b[0;36mpandas._libs.hashtable.PyObjectHashTable.get_item\u001b[1;34m()\u001b[0m\n",
      "\u001b[1;31mKeyError\u001b[0m: 'nome'",
      "\nThe above exception was the direct cause of the following exception:\n",
      "\u001b[1;31mKeyError\u001b[0m                                  Traceback (most recent call last)",
      "Cell \u001b[1;32mIn[50], line 2\u001b[0m\n\u001b[0;32m      1\u001b[0m \u001b[38;5;66;03m#Vai mostrar o valor indicado na coluna \"Nome\"(coluna utilizada)\u001b[39;00m\n\u001b[1;32m----> 2\u001b[0m df[\u001b[38;5;124m\"\u001b[39m\u001b[38;5;124mnome\u001b[39m\u001b[38;5;124m\"\u001b[39m] \u001b[38;5;241m=\u001b[39m \u001b[43mdf\u001b[49m\u001b[43m[\u001b[49m\u001b[38;5;124;43m\"\u001b[39;49m\u001b[38;5;124;43mnome\u001b[39;49m\u001b[38;5;124;43m\"\u001b[39;49m\u001b[43m]\u001b[49m\u001b[38;5;241m.\u001b[39mfillna(\u001b[38;5;124m\"\u001b[39m\u001b[38;5;124mNão se aplica\u001b[39m\u001b[38;5;124m\"\u001b[39m)\n\u001b[0;32m      3\u001b[0m df[df[\u001b[38;5;124m\"\u001b[39m\u001b[38;5;124mnome\u001b[39m\u001b[38;5;124m\"\u001b[39m]\u001b[38;5;241m==\u001b[39m\u001b[38;5;124m\"\u001b[39m\u001b[38;5;124mNão se aplica\u001b[39m\u001b[38;5;124m\"\u001b[39m]\n",
      "File \u001b[1;32mc:\\Users\\ct67ca\\Documents\\estudoss\\EstudosArea\\env\\lib\\site-packages\\pandas\\core\\frame.py:4107\u001b[0m, in \u001b[0;36mDataFrame.__getitem__\u001b[1;34m(self, key)\u001b[0m\n\u001b[0;32m   4105\u001b[0m \u001b[38;5;28;01mif\u001b[39;00m \u001b[38;5;28mself\u001b[39m\u001b[38;5;241m.\u001b[39mcolumns\u001b[38;5;241m.\u001b[39mnlevels \u001b[38;5;241m>\u001b[39m \u001b[38;5;241m1\u001b[39m:\n\u001b[0;32m   4106\u001b[0m     \u001b[38;5;28;01mreturn\u001b[39;00m \u001b[38;5;28mself\u001b[39m\u001b[38;5;241m.\u001b[39m_getitem_multilevel(key)\n\u001b[1;32m-> 4107\u001b[0m indexer \u001b[38;5;241m=\u001b[39m \u001b[38;5;28;43mself\u001b[39;49m\u001b[38;5;241;43m.\u001b[39;49m\u001b[43mcolumns\u001b[49m\u001b[38;5;241;43m.\u001b[39;49m\u001b[43mget_loc\u001b[49m\u001b[43m(\u001b[49m\u001b[43mkey\u001b[49m\u001b[43m)\u001b[49m\n\u001b[0;32m   4108\u001b[0m \u001b[38;5;28;01mif\u001b[39;00m is_integer(indexer):\n\u001b[0;32m   4109\u001b[0m     indexer \u001b[38;5;241m=\u001b[39m [indexer]\n",
      "File \u001b[1;32mc:\\Users\\ct67ca\\Documents\\estudoss\\EstudosArea\\env\\lib\\site-packages\\pandas\\core\\indexes\\base.py:3819\u001b[0m, in \u001b[0;36mIndex.get_loc\u001b[1;34m(self, key)\u001b[0m\n\u001b[0;32m   3814\u001b[0m     \u001b[38;5;28;01mif\u001b[39;00m \u001b[38;5;28misinstance\u001b[39m(casted_key, \u001b[38;5;28mslice\u001b[39m) \u001b[38;5;129;01mor\u001b[39;00m (\n\u001b[0;32m   3815\u001b[0m         \u001b[38;5;28misinstance\u001b[39m(casted_key, abc\u001b[38;5;241m.\u001b[39mIterable)\n\u001b[0;32m   3816\u001b[0m         \u001b[38;5;129;01mand\u001b[39;00m \u001b[38;5;28many\u001b[39m(\u001b[38;5;28misinstance\u001b[39m(x, \u001b[38;5;28mslice\u001b[39m) \u001b[38;5;28;01mfor\u001b[39;00m x \u001b[38;5;129;01min\u001b[39;00m casted_key)\n\u001b[0;32m   3817\u001b[0m     ):\n\u001b[0;32m   3818\u001b[0m         \u001b[38;5;28;01mraise\u001b[39;00m InvalidIndexError(key)\n\u001b[1;32m-> 3819\u001b[0m     \u001b[38;5;28;01mraise\u001b[39;00m \u001b[38;5;167;01mKeyError\u001b[39;00m(key) \u001b[38;5;28;01mfrom\u001b[39;00m\u001b[38;5;250m \u001b[39m\u001b[38;5;21;01merr\u001b[39;00m\n\u001b[0;32m   3820\u001b[0m \u001b[38;5;28;01mexcept\u001b[39;00m \u001b[38;5;167;01mTypeError\u001b[39;00m:\n\u001b[0;32m   3821\u001b[0m     \u001b[38;5;66;03m# If we have a listlike key, _check_indexing_error will raise\u001b[39;00m\n\u001b[0;32m   3822\u001b[0m     \u001b[38;5;66;03m#  InvalidIndexError. Otherwise we fall through and re-raise\u001b[39;00m\n\u001b[0;32m   3823\u001b[0m     \u001b[38;5;66;03m#  the TypeError.\u001b[39;00m\n\u001b[0;32m   3824\u001b[0m     \u001b[38;5;28mself\u001b[39m\u001b[38;5;241m.\u001b[39m_check_indexing_error(key)\n",
      "\u001b[1;31mKeyError\u001b[0m: 'nome'"
     ]
    }
   ],
   "source": [
    "#Vai mostrar o valor indicado na coluna \"Nome\"(coluna utilizada)\n",
    "#Nesse caso o exemplo não funcionou pois todas as colunas estavam preenchidas\n",
    "# df[\"nome\"] = df[\"nome\"].fillna(\"Não se aplica\")\n",
    "# df[df[\"nome\"]==\"Não se aplica\"]"
   ]
  },
  {
   "cell_type": "markdown",
   "id": "c5873a3e",
   "metadata": {},
   "source": [
    "6- Removendo dados duplicados com drop_duplicates()"
   ]
  },
  {
   "cell_type": "code",
   "execution_count": null,
   "id": "e65cfcbf",
   "metadata": {},
   "outputs": [],
   "source": [
    "df = df.drop_duplicates() #Remove linhas duplicadas, para por exemplo não dobrar valores, em nossa tabela não temos este exemplo"
   ]
  },
  {
   "cell_type": "markdown",
   "id": "5962fe02",
   "metadata": {},
   "source": [
    "7- Convertendo tipo de dado com pd.to_numeric() ou pd.to_datetime() ou astype()"
   ]
  },
  {
   "cell_type": "code",
   "execution_count": 58,
   "id": "439f181d",
   "metadata": {},
   "outputs": [
    {
     "data": {
      "text/plain": [
       "Produto        object\n",
       "quantidade    float64\n",
       "dtype: object"
      ]
     },
     "execution_count": 58,
     "metadata": {},
     "output_type": "execute_result"
    }
   ],
   "source": [
    "#df.dtypes #Mostra o tipo de dado de cada coluna\n",
    "df[\"quantidade\"] = df[\"quantidade\"].astype(float) #Converte o valor, nesse caso para float mas tem o numeric e o datetime\n",
    "df.dtypes"
   ]
  },
  {
   "cell_type": "markdown",
   "id": "d74776d8",
   "metadata": {},
   "source": [
    "8- Filtrando dados"
   ]
  },
  {
   "cell_type": "code",
   "execution_count": null,
   "id": "01fb1055",
   "metadata": {},
   "outputs": [
    {
     "data": {
      "text/html": [
       "<div>\n",
       "<style scoped>\n",
       "    .dataframe tbody tr th:only-of-type {\n",
       "        vertical-align: middle;\n",
       "    }\n",
       "\n",
       "    .dataframe tbody tr th {\n",
       "        vertical-align: top;\n",
       "    }\n",
       "\n",
       "    .dataframe thead th {\n",
       "        text-align: right;\n",
       "    }\n",
       "</style>\n",
       "<table border=\"1\" class=\"dataframe\">\n",
       "  <thead>\n",
       "    <tr style=\"text-align: right;\">\n",
       "      <th></th>\n",
       "      <th>Produto</th>\n",
       "      <th>quantidade</th>\n",
       "    </tr>\n",
       "  </thead>\n",
       "  <tbody>\n",
       "    <tr>\n",
       "      <th>1</th>\n",
       "      <td>Lápis</td>\n",
       "      <td>100.0</td>\n",
       "    </tr>\n",
       "    <tr>\n",
       "      <th>2</th>\n",
       "      <td>Caneta Azul</td>\n",
       "      <td>80.0</td>\n",
       "    </tr>\n",
       "    <tr>\n",
       "      <th>5</th>\n",
       "      <td>Café</td>\n",
       "      <td>25.0</td>\n",
       "    </tr>\n",
       "    <tr>\n",
       "      <th>6</th>\n",
       "      <td>Achocolatado</td>\n",
       "      <td>30.0</td>\n",
       "    </tr>\n",
       "    <tr>\n",
       "      <th>7</th>\n",
       "      <td>Água</td>\n",
       "      <td>50.0</td>\n",
       "    </tr>\n",
       "  </tbody>\n",
       "</table>\n",
       "</div>"
      ],
      "text/plain": [
       "        Produto  quantidade\n",
       "1         Lápis       100.0\n",
       "2   Caneta Azul        80.0\n",
       "5          Café        25.0\n",
       "6  Achocolatado        30.0\n",
       "7          Água        50.0"
      ]
     },
     "execution_count": 60,
     "metadata": {},
     "output_type": "execute_result"
    }
   ],
   "source": [
    "#Quando vai fazer um filtro é importante alterar o nome da variável desse DF\n",
    "df_filtrado = df[df[\"quantidade\"]>20] #Podemos criar lógica para filtrar conforme queremos\n",
    "df_filtrado"
   ]
  }
 ],
 "metadata": {
  "kernelspec": {
   "display_name": "env",
   "language": "python",
   "name": "python3"
  },
  "language_info": {
   "codemirror_mode": {
    "name": "ipython",
    "version": 3
   },
   "file_extension": ".py",
   "mimetype": "text/x-python",
   "name": "python",
   "nbconvert_exporter": "python",
   "pygments_lexer": "ipython3",
   "version": "3.10.0"
  }
 },
 "nbformat": 4,
 "nbformat_minor": 5
}
