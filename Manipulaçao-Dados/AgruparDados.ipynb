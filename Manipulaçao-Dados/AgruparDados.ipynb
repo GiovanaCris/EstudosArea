{
 "cells": [
  {
   "cell_type": "code",
   "execution_count": null,
   "id": "6cffd88f",
   "metadata": {},
   "outputs": [],
   "source": [
    "#Método GroupBy\n",
    "import pandas as pd"
   ]
  },
  {
   "cell_type": "code",
   "execution_count": null,
   "id": "dbf94c23",
   "metadata": {},
   "outputs": [],
   "source": [
    "df = pd.read_csv('alunos.csv')"
   ]
  }
 ],
 "metadata": {
  "language_info": {
   "name": "python"
  }
 },
 "nbformat": 4,
 "nbformat_minor": 5
}
