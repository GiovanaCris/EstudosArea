{
 "cells": [
  {
   "cell_type": "code",
   "execution_count": 123,
   "id": "6cffd88f",
   "metadata": {},
   "outputs": [
    {
     "name": "stdout",
     "output_type": "stream",
     "text": [
      "c:\\Users\\Giovana Cristina\\Documents\\estudossData\\EstudosArea\\Manipulaçao-Dados\n"
     ]
    }
   ],
   "source": [
    "#Método GroupBy\n",
    "import pandas as pd\n",
    "import os\n",
    "print(os.getcwd())"
   ]
  },
  {
   "cell_type": "code",
   "execution_count": 124,
   "id": "dbf94c23",
   "metadata": {},
   "outputs": [],
   "source": [
    "df = pd.read_csv(r\"alunos.csv\")\n"
   ]
  },
  {
   "cell_type": "code",
   "execution_count": 125,
   "id": "17e242dc",
   "metadata": {},
   "outputs": [
    {
     "data": {
      "text/html": [
       "<div>\n",
       "<style scoped>\n",
       "    .dataframe tbody tr th:only-of-type {\n",
       "        vertical-align: middle;\n",
       "    }\n",
       "\n",
       "    .dataframe tbody tr th {\n",
       "        vertical-align: top;\n",
       "    }\n",
       "\n",
       "    .dataframe thead th {\n",
       "        text-align: right;\n",
       "    }\n",
       "</style>\n",
       "<table border=\"1\" class=\"dataframe\">\n",
       "  <thead>\n",
       "    <tr style=\"text-align: right;\">\n",
       "      <th></th>\n",
       "      <th>nome</th>\n",
       "      <th>idade</th>\n",
       "      <th>nota</th>\n",
       "      <th>série</th>\n",
       "      <th>situacao</th>\n",
       "    </tr>\n",
       "  </thead>\n",
       "  <tbody>\n",
       "    <tr>\n",
       "      <th>0</th>\n",
       "      <td>Ana</td>\n",
       "      <td>16</td>\n",
       "      <td>5.38</td>\n",
       "      <td>2º ano EM</td>\n",
       "      <td>Reprovado</td>\n",
       "    </tr>\n",
       "    <tr>\n",
       "      <th>1</th>\n",
       "      <td>Bruno</td>\n",
       "      <td>15</td>\n",
       "      <td>9.72</td>\n",
       "      <td>7º ano</td>\n",
       "      <td>Aprovado</td>\n",
       "    </tr>\n",
       "    <tr>\n",
       "      <th>2</th>\n",
       "      <td>Carlos</td>\n",
       "      <td>14</td>\n",
       "      <td>7.26</td>\n",
       "      <td>2º ano EM</td>\n",
       "      <td>Aprovado</td>\n",
       "    </tr>\n",
       "    <tr>\n",
       "      <th>3</th>\n",
       "      <td>Daniela</td>\n",
       "      <td>16</td>\n",
       "      <td>5.41</td>\n",
       "      <td>2º ano EM</td>\n",
       "      <td>Reprovado</td>\n",
       "    </tr>\n",
       "    <tr>\n",
       "      <th>4</th>\n",
       "      <td>Eduardo</td>\n",
       "      <td>12</td>\n",
       "      <td>5.52</td>\n",
       "      <td>1º ano EM</td>\n",
       "      <td>Reprovado</td>\n",
       "    </tr>\n",
       "  </tbody>\n",
       "</table>\n",
       "</div>"
      ],
      "text/plain": [
       "      nome  idade  nota      série   situacao\n",
       "0      Ana     16  5.38  2º ano EM  Reprovado\n",
       "1    Bruno     15  9.72     7º ano   Aprovado\n",
       "2   Carlos     14  7.26  2º ano EM   Aprovado\n",
       "3  Daniela     16  5.41  2º ano EM  Reprovado\n",
       "4  Eduardo     12  5.52  1º ano EM  Reprovado"
      ]
     },
     "execution_count": 125,
     "metadata": {},
     "output_type": "execute_result"
    }
   ],
   "source": [
    "df.head()"
   ]
  },
  {
   "cell_type": "markdown",
   "id": "def4d28a",
   "metadata": {},
   "source": [
    "1 - Quantidade de aluno por série"
   ]
  },
  {
   "cell_type": "code",
   "execution_count": 126,
   "id": "857e3b44",
   "metadata": {},
   "outputs": [
    {
     "data": {
      "text/plain": [
       "série\n",
       "1º ano EM    2\n",
       "2º ano EM    5\n",
       "3º ano EM    2\n",
       "6º ano       1\n",
       "7º ano       1\n",
       "8º ano       5\n",
       "9º ano       4\n",
       "Name: série, dtype: int64"
      ]
     },
     "execution_count": 126,
     "metadata": {},
     "output_type": "execute_result"
    }
   ],
   "source": [
    "#Função GroupBy\n",
    "df.groupby(['série'])['série'].count() \n",
    "#Coluna para agrupar as informações, \n",
    "#ao executar ele vai mostrar quantos alunos tem em cada série, \n",
    "#coloquei nome duas vezes porque é apenas uma coluna e não duas"
   ]
  },
  {
   "cell_type": "code",
   "execution_count": 127,
   "id": "c6919178",
   "metadata": {},
   "outputs": [
    {
     "data": {
      "text/plain": [
       "série\n",
       "1º ano EM    2\n",
       "2º ano EM    5\n",
       "3º ano EM    2\n",
       "6º ano       1\n",
       "7º ano       1\n",
       "8º ano       5\n",
       "9º ano       4\n",
       "Name: série, dtype: int64"
      ]
     },
     "execution_count": 127,
     "metadata": {},
     "output_type": "execute_result"
    }
   ],
   "source": [
    "#Fução AGG\n",
    "df.groupby(['série'])['série'].agg('count') \n",
    "#Multiplas operações de uma forma mais fácil \n",
    "#Função AGG + GroupBy"
   ]
  },
  {
   "cell_type": "markdown",
   "id": "14b3c969",
   "metadata": {},
   "source": [
    "2- Média de idade por situação e série (Múltiplas colunas)"
   ]
  },
  {
   "cell_type": "code",
   "execution_count": 128,
   "id": "e9093bd1",
   "metadata": {},
   "outputs": [
    {
     "data": {
      "text/plain": [
       "situacao   série    \n",
       "Aprovado   2º ano EM    15.500000\n",
       "           3º ano EM    11.000000\n",
       "           6º ano       17.000000\n",
       "           7º ano       15.000000\n",
       "           8º ano       13.000000\n",
       "           9º ano       11.000000\n",
       "Reprovado  1º ano EM    12.500000\n",
       "           2º ano EM    16.333333\n",
       "           3º ano EM    11.000000\n",
       "           8º ano       14.666667\n",
       "           9º ano       12.000000\n",
       "Name: idade, dtype: float64"
      ]
     },
     "execution_count": 128,
     "metadata": {},
     "output_type": "execute_result"
    }
   ],
   "source": [
    "df.groupby(['situacao', 'série'])['idade'].agg('mean')\n",
    "#Vai mostrar a média de idade dos alunos aprovados e reprovados em cada série\n",
    "#Vou agrupar as colunas situação e série e mostrar a média em cada um deles  "
   ]
  },
  {
   "cell_type": "markdown",
   "id": "87a167ba",
   "metadata": {},
   "source": [
    "3- Número de alunos por série e média de notas (Múltiplas funções)"
   ]
  },
  {
   "cell_type": "code",
   "execution_count": 129,
   "id": "755be40f",
   "metadata": {},
   "outputs": [
    {
     "data": {
      "text/html": [
       "<div>\n",
       "<style scoped>\n",
       "    .dataframe tbody tr th:only-of-type {\n",
       "        vertical-align: middle;\n",
       "    }\n",
       "\n",
       "    .dataframe tbody tr th {\n",
       "        vertical-align: top;\n",
       "    }\n",
       "\n",
       "    .dataframe thead th {\n",
       "        text-align: right;\n",
       "    }\n",
       "</style>\n",
       "<table border=\"1\" class=\"dataframe\">\n",
       "  <thead>\n",
       "    <tr style=\"text-align: right;\">\n",
       "      <th></th>\n",
       "      <th>nome</th>\n",
       "      <th>nota</th>\n",
       "      <th>idade</th>\n",
       "    </tr>\n",
       "    <tr>\n",
       "      <th>série</th>\n",
       "      <th></th>\n",
       "      <th></th>\n",
       "      <th></th>\n",
       "    </tr>\n",
       "  </thead>\n",
       "  <tbody>\n",
       "    <tr>\n",
       "      <th>1º ano EM</th>\n",
       "      <td>2</td>\n",
       "      <td>5.725</td>\n",
       "      <td>12.50</td>\n",
       "    </tr>\n",
       "    <tr>\n",
       "      <th>2º ano EM</th>\n",
       "      <td>5</td>\n",
       "      <td>6.590</td>\n",
       "      <td>16.00</td>\n",
       "    </tr>\n",
       "    <tr>\n",
       "      <th>3º ano EM</th>\n",
       "      <td>2</td>\n",
       "      <td>6.505</td>\n",
       "      <td>11.00</td>\n",
       "    </tr>\n",
       "    <tr>\n",
       "      <th>6º ano</th>\n",
       "      <td>1</td>\n",
       "      <td>7.300</td>\n",
       "      <td>17.00</td>\n",
       "    </tr>\n",
       "    <tr>\n",
       "      <th>7º ano</th>\n",
       "      <td>1</td>\n",
       "      <td>9.720</td>\n",
       "      <td>15.00</td>\n",
       "    </tr>\n",
       "    <tr>\n",
       "      <th>8º ano</th>\n",
       "      <td>5</td>\n",
       "      <td>7.442</td>\n",
       "      <td>14.00</td>\n",
       "    </tr>\n",
       "    <tr>\n",
       "      <th>9º ano</th>\n",
       "      <td>4</td>\n",
       "      <td>6.510</td>\n",
       "      <td>11.75</td>\n",
       "    </tr>\n",
       "  </tbody>\n",
       "</table>\n",
       "</div>"
      ],
      "text/plain": [
       "           nome   nota  idade\n",
       "série                        \n",
       "1º ano EM     2  5.725  12.50\n",
       "2º ano EM     5  6.590  16.00\n",
       "3º ano EM     2  6.505  11.00\n",
       "6º ano        1  7.300  17.00\n",
       "7º ano        1  9.720  15.00\n",
       "8º ano        5  7.442  14.00\n",
       "9º ano        4  6.510  11.75"
      ]
     },
     "execution_count": 129,
     "metadata": {},
     "output_type": "execute_result"
    }
   ],
   "source": [
    "df.groupby(['série']).agg({'nome':'count', 'nota': 'mean','idade':'mean'})\n",
    "#Quase sempre quando na requisição tem  \"por\" é um groupby(agrupamento) na tabela depois do 'por'\n",
    "#Pode colocar quantas colunas e associações quiser associadas a coluna 'série'(coluna principal)\n",
    "#Vai mostrar a quantidade de alunos em cada série e a média total deles\n",
    "#Por último adicionei a coluna idade então vai mostrar a média de idade dos alunos em cada série"
   ]
  },
  {
   "cell_type": "markdown",
   "id": "aee75c4b",
   "metadata": {},
   "source": [
    "4- Calcular a média, o máximo e o mínimo de idade por sala"
   ]
  },
  {
   "cell_type": "code",
   "execution_count": 130,
   "id": "0b6f77aa",
   "metadata": {},
   "outputs": [
    {
     "data": {
      "text/html": [
       "<div>\n",
       "<style scoped>\n",
       "    .dataframe tbody tr th:only-of-type {\n",
       "        vertical-align: middle;\n",
       "    }\n",
       "\n",
       "    .dataframe tbody tr th {\n",
       "        vertical-align: top;\n",
       "    }\n",
       "\n",
       "    .dataframe thead th {\n",
       "        text-align: right;\n",
       "    }\n",
       "</style>\n",
       "<table border=\"1\" class=\"dataframe\">\n",
       "  <thead>\n",
       "    <tr style=\"text-align: right;\">\n",
       "      <th></th>\n",
       "      <th>mean</th>\n",
       "      <th>max</th>\n",
       "      <th>min</th>\n",
       "    </tr>\n",
       "    <tr>\n",
       "      <th>série</th>\n",
       "      <th></th>\n",
       "      <th></th>\n",
       "      <th></th>\n",
       "    </tr>\n",
       "  </thead>\n",
       "  <tbody>\n",
       "    <tr>\n",
       "      <th>1º ano EM</th>\n",
       "      <td>12.50</td>\n",
       "      <td>13</td>\n",
       "      <td>12</td>\n",
       "    </tr>\n",
       "    <tr>\n",
       "      <th>2º ano EM</th>\n",
       "      <td>16.00</td>\n",
       "      <td>17</td>\n",
       "      <td>14</td>\n",
       "    </tr>\n",
       "    <tr>\n",
       "      <th>3º ano EM</th>\n",
       "      <td>11.00</td>\n",
       "      <td>11</td>\n",
       "      <td>11</td>\n",
       "    </tr>\n",
       "    <tr>\n",
       "      <th>6º ano</th>\n",
       "      <td>17.00</td>\n",
       "      <td>17</td>\n",
       "      <td>17</td>\n",
       "    </tr>\n",
       "    <tr>\n",
       "      <th>7º ano</th>\n",
       "      <td>15.00</td>\n",
       "      <td>15</td>\n",
       "      <td>15</td>\n",
       "    </tr>\n",
       "    <tr>\n",
       "      <th>8º ano</th>\n",
       "      <td>14.00</td>\n",
       "      <td>18</td>\n",
       "      <td>11</td>\n",
       "    </tr>\n",
       "    <tr>\n",
       "      <th>9º ano</th>\n",
       "      <td>11.75</td>\n",
       "      <td>13</td>\n",
       "      <td>11</td>\n",
       "    </tr>\n",
       "  </tbody>\n",
       "</table>\n",
       "</div>"
      ],
      "text/plain": [
       "            mean  max  min\n",
       "série                     \n",
       "1º ano EM  12.50   13   12\n",
       "2º ano EM  16.00   17   14\n",
       "3º ano EM  11.00   11   11\n",
       "6º ano     17.00   17   17\n",
       "7º ano     15.00   15   15\n",
       "8º ano     14.00   18   11\n",
       "9º ano     11.75   13   11"
      ]
     },
     "execution_count": 130,
     "metadata": {},
     "output_type": "execute_result"
    }
   ],
   "source": [
    "df.groupby(['série'])['idade'].agg(['mean', 'max', 'min'])\n",
    "#Passo a tabela principal 'série' e desejo saber a média da idade(tabela de agregação) total, a idade máxima e mínima dos alunos de cada série "
   ]
  },
  {
   "cell_type": "markdown",
   "id": "ce6adb39",
   "metadata": {},
   "source": [
    "5- Agregando sem agrupar"
   ]
  },
  {
   "cell_type": "code",
   "execution_count": 131,
   "id": "39eabd06",
   "metadata": {},
   "outputs": [
    {
     "data": {
      "text/html": [
       "<div>\n",
       "<style scoped>\n",
       "    .dataframe tbody tr th:only-of-type {\n",
       "        vertical-align: middle;\n",
       "    }\n",
       "\n",
       "    .dataframe tbody tr th {\n",
       "        vertical-align: top;\n",
       "    }\n",
       "\n",
       "    .dataframe thead th {\n",
       "        text-align: right;\n",
       "    }\n",
       "</style>\n",
       "<table border=\"1\" class=\"dataframe\">\n",
       "  <thead>\n",
       "    <tr style=\"text-align: right;\">\n",
       "      <th></th>\n",
       "      <th>idade</th>\n",
       "      <th>nota</th>\n",
       "    </tr>\n",
       "  </thead>\n",
       "  <tbody>\n",
       "    <tr>\n",
       "      <th>mean</th>\n",
       "      <td>13.8</td>\n",
       "      <td>NaN</td>\n",
       "    </tr>\n",
       "    <tr>\n",
       "      <th>min</th>\n",
       "      <td>11.0</td>\n",
       "      <td>5.06</td>\n",
       "    </tr>\n",
       "    <tr>\n",
       "      <th>max</th>\n",
       "      <td>NaN</td>\n",
       "      <td>9.72</td>\n",
       "    </tr>\n",
       "  </tbody>\n",
       "</table>\n",
       "</div>"
      ],
      "text/plain": [
       "      idade  nota\n",
       "mean   13.8   NaN\n",
       "min    11.0  5.06\n",
       "max     NaN  9.72"
      ]
     },
     "execution_count": 131,
     "metadata": {},
     "output_type": "execute_result"
    }
   ],
   "source": [
    "df.agg({'idade':['mean', 'min'], 'nota':['min', 'max']})\n",
    "#Agregação direta, sem agrupar\n",
    "#Útil para quando quer ter uma visão geral das estatísticas globais de uma coluna específica\n",
    "#Na minha coluna de idade vai mostrar o total e o mínimo e na de nota vai mostrar o mínimo e o máximo, sem comparar\n",
    "#Serão medidas individualmente"
   ]
  },
  {
   "cell_type": "code",
   "execution_count": 132,
   "id": "c85eb10c",
   "metadata": {},
   "outputs": [
    {
     "name": "stdout",
     "output_type": "stream",
     "text": [
      "Arquivo excel salvo com sucesso\n"
     ]
    }
   ],
   "source": [
    "#Salvando os dados em um dataframe\n",
    "caminho_excel = r\"C:\\\\Users\\\\Giovana Cristina\\Documents\\\\estudossData\\\\EstudosArea\\\\Estudos Python\\\\estatisticaAlunos.xlsx\"\n",
    "\n",
    "df.to_excel(caminho_excel, index = False)\n",
    "print (\"Arquivo excel salvo com sucesso\")"
   ]
  }
 ],
 "metadata": {
  "language_info": {
   "name": "python"
  }
 },
 "nbformat": 4,
 "nbformat_minor": 5
}
