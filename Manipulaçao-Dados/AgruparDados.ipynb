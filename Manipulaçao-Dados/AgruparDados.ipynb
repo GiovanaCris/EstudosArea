{
 "cells": [
  {
   "cell_type": "code",
   "execution_count": 50,
   "id": "6cffd88f",
   "metadata": {},
   "outputs": [
    {
     "name": "stdout",
     "output_type": "stream",
     "text": [
      "c:\\Users\\Giovana Cristina\\Documents\\estudossData\\EstudosArea\\Manipulaçao-Dados\n"
     ]
    }
   ],
   "source": [
    "#Método GroupBy\n",
    "import pandas as pd\n",
    "import os\n",
    "print(os.getcwd())"
   ]
  },
  {
   "cell_type": "code",
   "execution_count": 51,
   "id": "dbf94c23",
   "metadata": {},
   "outputs": [],
   "source": [
    "df = pd.read_csv(r\"alunos.csv\")\n"
   ]
  },
  {
   "cell_type": "code",
   "execution_count": 52,
   "id": "17e242dc",
   "metadata": {},
   "outputs": [
    {
     "data": {
      "text/html": [
       "<div>\n",
       "<style scoped>\n",
       "    .dataframe tbody tr th:only-of-type {\n",
       "        vertical-align: middle;\n",
       "    }\n",
       "\n",
       "    .dataframe tbody tr th {\n",
       "        vertical-align: top;\n",
       "    }\n",
       "\n",
       "    .dataframe thead th {\n",
       "        text-align: right;\n",
       "    }\n",
       "</style>\n",
       "<table border=\"1\" class=\"dataframe\">\n",
       "  <thead>\n",
       "    <tr style=\"text-align: right;\">\n",
       "      <th></th>\n",
       "      <th>nome</th>\n",
       "      <th>idade</th>\n",
       "      <th>nota</th>\n",
       "      <th>série</th>\n",
       "      <th>situacao</th>\n",
       "    </tr>\n",
       "  </thead>\n",
       "  <tbody>\n",
       "    <tr>\n",
       "      <th>0</th>\n",
       "      <td>Ana</td>\n",
       "      <td>16</td>\n",
       "      <td>5.38</td>\n",
       "      <td>2º ano EM</td>\n",
       "      <td>Reprovado</td>\n",
       "    </tr>\n",
       "    <tr>\n",
       "      <th>1</th>\n",
       "      <td>Bruno</td>\n",
       "      <td>15</td>\n",
       "      <td>9.72</td>\n",
       "      <td>7º ano</td>\n",
       "      <td>Aprovado</td>\n",
       "    </tr>\n",
       "    <tr>\n",
       "      <th>2</th>\n",
       "      <td>Carlos</td>\n",
       "      <td>14</td>\n",
       "      <td>7.26</td>\n",
       "      <td>2º ano EM</td>\n",
       "      <td>Aprovado</td>\n",
       "    </tr>\n",
       "    <tr>\n",
       "      <th>3</th>\n",
       "      <td>Daniela</td>\n",
       "      <td>16</td>\n",
       "      <td>5.41</td>\n",
       "      <td>2º ano EM</td>\n",
       "      <td>Reprovado</td>\n",
       "    </tr>\n",
       "    <tr>\n",
       "      <th>4</th>\n",
       "      <td>Eduardo</td>\n",
       "      <td>12</td>\n",
       "      <td>5.52</td>\n",
       "      <td>1º ano EM</td>\n",
       "      <td>Reprovado</td>\n",
       "    </tr>\n",
       "  </tbody>\n",
       "</table>\n",
       "</div>"
      ],
      "text/plain": [
       "      nome  idade  nota      série   situacao\n",
       "0      Ana     16  5.38  2º ano EM  Reprovado\n",
       "1    Bruno     15  9.72     7º ano   Aprovado\n",
       "2   Carlos     14  7.26  2º ano EM   Aprovado\n",
       "3  Daniela     16  5.41  2º ano EM  Reprovado\n",
       "4  Eduardo     12  5.52  1º ano EM  Reprovado"
      ]
     },
     "execution_count": 52,
     "metadata": {},
     "output_type": "execute_result"
    }
   ],
   "source": [
    "df.head()"
   ]
  },
  {
   "cell_type": "markdown",
   "id": "def4d28a",
   "metadata": {},
   "source": [
    "1 - Quantidade de funcionário por departamento"
   ]
  },
  {
   "cell_type": "code",
   "execution_count": null,
   "id": "857e3b44",
   "metadata": {},
   "outputs": [],
   "source": []
  }
 ],
 "metadata": {
  "language_info": {
   "name": "python"
  }
 },
 "nbformat": 4,
 "nbformat_minor": 5
}
