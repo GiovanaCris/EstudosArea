{
 "cells": [
  {
   "cell_type": "markdown",
   "id": "df1ae914",
   "metadata": {},
   "source": [
    "Transformar valores inválidos"
   ]
  },
  {
   "cell_type": "code",
   "execution_count": 58,
   "id": "3b550c73",
   "metadata": {},
   "outputs": [],
   "source": [
    "import pandas as pd\n",
    "\n",
    "caminho_csv = ('produtos_preco_formatado.csv')\n",
    "caminho_excel = ('produtos_preco_formatado.xlsx')\n",
    "\n",
    "df = pd.read_csv(caminho_csv)\n"
   ]
  },
  {
   "cell_type": "markdown",
   "id": "4f4a1df7",
   "metadata": {},
   "source": [
    "1- Mostra os tipos das colunas da tabela"
   ]
  },
  {
   "cell_type": "code",
   "execution_count": 59,
   "id": "54ae5144",
   "metadata": {},
   "outputs": [
    {
     "name": "stdout",
     "output_type": "stream",
     "text": [
      "<class 'pandas.core.frame.DataFrame'>\n",
      "RangeIndex: 8 entries, 0 to 7\n",
      "Data columns (total 4 columns):\n",
      " #   Column      Non-Null Count  Dtype \n",
      "---  ------      --------------  ----- \n",
      " 0   nome        8 non-null      object\n",
      " 1   categoria   8 non-null      object\n",
      " 2   quantidade  8 non-null      int64 \n",
      " 3   preço       8 non-null      object\n",
      "dtypes: int64(1), object(3)\n",
      "memory usage: 388.0+ bytes\n"
     ]
    }
   ],
   "source": [
    "df.info() #Tipo das colunas da tabela"
   ]
  },
  {
   "cell_type": "markdown",
   "id": "a2644fbe",
   "metadata": {},
   "source": [
    "2- Remove espaços e a formatação \"R$\""
   ]
  },
  {
   "cell_type": "code",
   "execution_count": 60,
   "id": "b651c691",
   "metadata": {},
   "outputs": [],
   "source": [
    "#Retira o R$ e espaços\n",
    "df[\"preço\"] = df[\"preço\"].str.replace(\"R$\", \"\", regex=False).str.strip()\n",
    "#Vai substituir o R$ por nada, vai remover ele"
   ]
  },
  {
   "cell_type": "markdown",
   "id": "95557793",
   "metadata": {},
   "source": [
    "3- Troca a vírgula por ponto"
   ]
  },
  {
   "cell_type": "code",
   "execution_count": 61,
   "id": "9f4b0503",
   "metadata": {},
   "outputs": [
    {
     "data": {
      "text/plain": [
       "0     12.50\n",
       "1      1.20\n",
       "2      2.30\n",
       "3     45.99\n",
       "4    120.00\n",
       "5     18.75\n",
       "6      7.50\n",
       "7      2.00\n",
       "Name: preço, dtype: object"
      ]
     },
     "execution_count": 61,
     "metadata": {},
     "output_type": "execute_result"
    }
   ],
   "source": [
    "df['preço'] = df['preço'].apply(lambda x: str(x).replace(\",\",\".\"))\n",
    "df['preço']\n",
    "#O apply permite aplicar uma função para todos os elementos da minha coluna\n",
    "#Para cada elemento da minha coluna preço ele vai pega o valor e converter de \",\" para \".\" "
   ]
  },
  {
   "cell_type": "markdown",
   "id": "ba61c253",
   "metadata": {},
   "source": [
    "4- Converte o valor (nesse caso para float)"
   ]
  },
  {
   "cell_type": "code",
   "execution_count": 62,
   "id": "a7807b09",
   "metadata": {},
   "outputs": [
    {
     "data": {
      "text/plain": [
       "0     12.50\n",
       "1      1.20\n",
       "2      2.30\n",
       "3     45.99\n",
       "4    120.00\n",
       "5     18.75\n",
       "6      7.50\n",
       "7      2.00\n",
       "Name: preço, dtype: float64"
      ]
     },
     "execution_count": 62,
     "metadata": {},
     "output_type": "execute_result"
    }
   ],
   "source": [
    "df[\"preço\"] = df[\"preço\"].astype(float)\n",
    "df[\"preço\"]"
   ]
  },
  {
   "cell_type": "code",
   "execution_count": 63,
   "id": "e2bb0bc2",
   "metadata": {},
   "outputs": [
    {
     "data": {
      "text/plain": [
       "0     12.50\n",
       "1      1.20\n",
       "2      2.30\n",
       "3     45.99\n",
       "4    120.00\n",
       "5     18.75\n",
       "6      7.50\n",
       "7      2.00\n",
       "Name: preço, dtype: float64"
      ]
     },
     "execution_count": 63,
     "metadata": {},
     "output_type": "execute_result"
    }
   ],
   "source": [
    "df['preço'].mean()\n",
    "df['preço']"
   ]
  },
  {
   "cell_type": "code",
   "execution_count": 64,
   "id": "a26086f7",
   "metadata": {},
   "outputs": [],
   "source": [
    "# df['preço'].plot() #Grágico dos valores da coluna\n",
    "# df['preço']"
   ]
  },
  {
   "cell_type": "code",
   "execution_count": 65,
   "id": "7cac6f37",
   "metadata": {},
   "outputs": [
    {
     "name": "stdout",
     "output_type": "stream",
     "text": [
      "Leitura do arquivo CSV realizada com sucesso!\n",
      "Arquivo excel salvo com sucesso\n"
     ]
    }
   ],
   "source": [
    "#Salvando os dados\n",
    "df = pd.read_csv(caminho_csv, sep = \",\")\n",
    "print (\"Leitura do arquivo CSV realizada com sucesso!\")\n",
    "\n",
    "df.to_excel(caminho_excel, index = False)\n",
    "print (\"Arquivo excel salvo com sucesso\")"
   ]
  }
 ],
 "metadata": {
  "kernelspec": {
   "display_name": "Python 3",
   "language": "python",
   "name": "python3"
  },
  "language_info": {
   "codemirror_mode": {
    "name": "ipython",
    "version": 3
   },
   "file_extension": ".py",
   "mimetype": "text/x-python",
   "name": "python",
   "nbconvert_exporter": "python",
   "pygments_lexer": "ipython3",
   "version": "3.12.6"
  }
 },
 "nbformat": 4,
 "nbformat_minor": 5
}
